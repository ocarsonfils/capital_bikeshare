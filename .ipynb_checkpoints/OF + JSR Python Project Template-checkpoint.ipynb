{
 "cells": [
  {
   "cell_type": "code",
   "execution_count": 8,
   "id": "16c8a27b",
   "metadata": {},
   "outputs": [],
   "source": [
    "                                # Project Outline and Codes to be Used in Each Section\n",
    "                                 # Reference Lecture 11 Notes for more information"
   ]
  },
  {
   "cell_type": "code",
   "execution_count": 4,
   "id": "aaefa82c",
   "metadata": {},
   "outputs": [],
   "source": [
    "                                             # Section 1: Data Inspection Commands"
   ]
  },
  {
   "cell_type": "code",
   "execution_count": 6,
   "id": "5e210b15",
   "metadata": {},
   "outputs": [],
   "source": [
    "import pandas as pd\n",
    "\n",
    "df.shape \n",
    "# Shows the # of rows/columns\n",
    "\n",
    "df.info\n",
    "# Shows dataframe metadata/general info\n",
    "\n",
    "df.head\n",
    "df.tail\n",
    "#Shows the first 5 rows/last rows"
   ]
  },
  {
   "cell_type": "code",
   "execution_count": null,
   "id": "f92633e2",
   "metadata": {},
   "outputs": [],
   "source": [
    "                                          # Section 2: Summary Statistics Commands"
   ]
  },
  {
   "cell_type": "code",
   "execution_count": null,
   "id": "460fc9e8",
   "metadata": {},
   "outputs": [],
   "source": [
    "df.min\n",
    "df.max\n",
    "df.avg\n",
    "\n",
    "df[\"COLUMN NAME\"].value_counts() \n",
    "# Shows the number of each unique value in a column\n",
    "\n",
    "housing.describe()\n",
    "#Shows count, mean, std, min, 25%, 50%, 75%, max"
   ]
  },
  {
   "cell_type": "code",
   "execution_count": null,
   "id": "60039383",
   "metadata": {},
   "outputs": [],
   "source": [
    "                                          # Section 3: Correlations Commands"
   ]
  },
  {
   "cell_type": "code",
   "execution_count": null,
   "id": "94dd7399",
   "metadata": {},
   "outputs": [],
   "source": [
    "df.corr\n",
    "#Generates a correlation matrix\n",
    "\n",
    "df[\"COLUMN NAME\"].sort_values(ascending=False)\n",
    "# Check the correlation between values in 1 specfic column and the ones in all the other columns"
   ]
  },
  {
   "cell_type": "code",
   "execution_count": null,
   "id": "0b2dd48d",
   "metadata": {},
   "outputs": [],
   "source": [
    "                                    # Section 4: Histogram and Scatterplot Commands"
   ]
  },
  {
   "cell_type": "code",
   "execution_count": null,
   "id": "e6e3d6f2",
   "metadata": {},
   "outputs": [],
   "source": [
    "%matplotlib inline\n",
    "import matplotlib.pyplot as plt\n",
    "\n",
    "df.hist(bins=50, figsize=(20,15))\n",
    "plt.show()\n",
    "# 1. HISTOGRAM\n",
    "# Bins is how many bins you want on the histogram. Bins are used to count the number of observations in a specific range\n",
    "# FigSize is how big you want the image/figure to display on the page\n",
    "# Plt.show shows the histogram\n",
    "\n",
    "plt.scatter(df[\"COLUMN NAME\"], df[\"COLUMN NAME\"])\n",
    "# 2. Scatterplot\n",
    "\n",
    "plt.pie(df[\"COLUMN NAME\"], labels = df.[\"COLUMN NAME\"])\n",
    "# 3. Pie Chart"
   ]
  },
  {
   "cell_type": "code",
   "execution_count": null,
   "id": "20d91cb9",
   "metadata": {},
   "outputs": [],
   "source": [
    "                                     # Section 5: Missing Data/Data Cleaning+Prep Commands"
   ]
  },
  {
   "cell_type": "code",
   "execution_count": null,
   "id": "b729e892",
   "metadata": {},
   "outputs": [],
   "source": [
    "df.drop(\"COLUMN NAME\", axis=1)\n",
    "# Dropping a Column\n",
    "\n",
    "sample_incomplete_rows = df[df.isnull().any(axis=1)]\n",
    "sample_incomplete_rows\n",
    "# Showing null values\n",
    "\n",
    "median = df[\"COLUMN NAME\"].median() \n",
    "df[\"COLUMN NAME\"].fillna(median, inplace=True)\n",
    "# Calulating the median value and replacing all nulls with the median value"
   ]
  },
  {
   "cell_type": "code",
   "execution_count": null,
   "id": "bc4efb90",
   "metadata": {},
   "outputs": [],
   "source": [
    "                                       # Section 6: New Feature(Column) Creation Commands"
   ]
  },
  {
   "cell_type": "code",
   "execution_count": null,
   "id": "5699eb08",
   "metadata": {},
   "outputs": [],
   "source": [
    "dataframe[\"COLUMN3\"] = dataframe[\"COLUMN1\"]/dataframe[\"COLUMN2\"]\n",
    "# Basically caluculated fields in Tableau\n",
    "\n",
    "dataframe[\"COLUMN6\"] = dataframe[\"COLUMN4\"]-dataframe[\"COLUMN5\"]"
   ]
  },
  {
   "cell_type": "code",
   "execution_count": null,
   "id": "b99e6f24",
   "metadata": {},
   "outputs": [],
   "source": [
    "                                     # Section 7: Non-Numeric Features and Encoding Commands"
   ]
  },
  {
   "cell_type": "code",
   "execution_count": null,
   "id": "edddd7e4",
   "metadata": {},
   "outputs": [],
   "source": [
    "????????\n",
    "# I don't understand how this works yet"
   ]
  },
  {
   "cell_type": "code",
   "execution_count": null,
   "id": "05534c9e",
   "metadata": {},
   "outputs": [],
   "source": [
    "                                    # Section 8: Creating the TRAIN & TEST Datasets for the Model"
   ]
  },
  {
   "cell_type": "code",
   "execution_count": null,
   "id": "39cb2108",
   "metadata": {},
   "outputs": [],
   "source": [
    "from sklearn.model_selection import train_test_split\n",
    "train_set, test_set = train_test_split(dataframe, test_size=0.3, random_state=42)\n",
    "train_set\n",
    "test_set\n",
    "# Creates the training dataset and the testing dataset. Shows both\n",
    "\n",
    "dataframe_train_X = train_set.drop(\"COLUMN1\", axis=1) \n",
    "dataframe_train_y = train_set[\"COLUMN1\"].copy()\n",
    "# Create the X and Y training datasets, it is important to separate them so you can use X to predict Y\n",
    "\n",
    "dataframe_test_X = test_set.drop(\"COLUMN1\", axis=1) \n",
    "dataframe_test_y = test_set[\"COLUMN1\"].copy()\n",
    "# Do the same thing for the test set\n"
   ]
  },
  {
   "cell_type": "code",
   "execution_count": null,
   "id": "d69f01d1",
   "metadata": {},
   "outputs": [],
   "source": [
    "                                    # Section 9: Actually Training the Model"
   ]
  },
  {
   "cell_type": "code",
   "execution_count": null,
   "id": "82eb28c5",
   "metadata": {},
   "outputs": [],
   "source": [
    "from sklearn.linear_model import LinearRegression\n",
    "lin_reg = LinearRegression()\n",
    "lin_reg.fit(dataframe_train_X, dataframe_train_y)\n",
    "# Importing the model, giving it a name, and giving it the training datasets\n",
    "\n",
    "lin_reg.coef_\n",
    "pd.DataFrame(lin_reg.coef_, index = dataframe_train_X.columns)\n",
    "# ~~ Analyzing the regression coefficients with their respective names\n",
    "\n",
    "from sklearn.metrics import mean_squared_error\n",
    "import numpy as np\n",
    "housing_predictions = lin_reg.predict(housing_train_X)\n",
    "lin_mse = mean_squared_error(housing_train_y, housing_predictions)\n",
    "lin_rmse = np.sqrt(lin_mse)\n",
    "lin_rmse\n",
    "# Using In-sample/Train Set evaluation to see how much error the model has  (Mean Squared Error)\n",
    "\n",
    "housing_predictions_test = lin_reg.predict(housing_test_X)\n",
    "lin_mse = mean_squared_error(housing_test_y, housing_predictions_test)\n",
    "lin_rmse = np.sqrt(lin_mse)\n",
    "lin_rmse\n",
    "# Using Out-of-sample/Test Set  evaluation to see how much error (Mean Squared Error)\n",
    "\n",
    "from sklearn.metrics import mean_absolute_error\n",
    "lin_mae = mean_absolute_error(housing_test_y, housing_predictions_test)\n",
    "lin_mae\n",
    "# Using Out-of-sample evaluation to see how much error (Mean Absolute Error)\n"
   ]
  }
 ],
 "metadata": {
  "kernelspec": {
   "display_name": "Python 3 (ipykernel)",
   "language": "python",
   "name": "python3"
  },
  "language_info": {
   "codemirror_mode": {
    "name": "ipython",
    "version": 3
   },
   "file_extension": ".py",
   "mimetype": "text/x-python",
   "name": "python",
   "nbconvert_exporter": "python",
   "pygments_lexer": "ipython3",
   "version": "3.11.4"
  }
 },
 "nbformat": 4,
 "nbformat_minor": 5
}
